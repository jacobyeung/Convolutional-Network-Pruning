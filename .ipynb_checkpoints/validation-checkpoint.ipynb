{
 "cells": [
  {
   "cell_type": "code",
   "execution_count": 4,
   "metadata": {},
   "outputs": [],
   "source": [
    "from pathlib import Path\n",
    "import numpy as np\n",
    "import torch, torchvision, json\n",
    "import torchvision.transforms as transforms\n",
    "from torch.nn import CrossEntropyLoss\n",
    "device=\"cuda\""
   ]
  },
  {
   "cell_type": "code",
   "execution_count": null,
   "metadata": {},
   "outputs": [],
   "source": [
    "data_dir = Path('./data/tiny-imagenet-200')\n",
    "data_transforms = transforms.Compose([\n",
    "        transforms.ToTensor(),\n",
    "        transforms.Normalize((0, 0, 0), tuple(np.sqrt((255, 255, 255)))),\n",
    "])"
   ]
  },
  {
   "cell_type": "code",
   "execution_count": 5,
   "metadata": {},
   "outputs": [],
   "source": [
    "valid_set = torchvision.datasets.ImageFolder(data_dir / 'val', data_transforms)\n",
    "valid_loader = torch.utils.data.DataLoader(valid_set, batch_size=128,\n",
    "                                           shuffle=True, num_workers=4, pin_memory=True)\n",
    "train_set = torchvision.datasets.ImageFolder(data_dir / 'train', data_transforms)\n",
    "train_loader = torch.utils.data.DataLoader(train_set, batch_size=128,\n",
    "                                           shuffle=True, num_workers=4, pin_memory=True)\n",
    "loss = CrossEntropyLoss()"
   ]
  },
  {
   "cell_type": "code",
   "execution_count": 5,
   "metadata": {},
   "outputs": [
    {
     "ename": "NameError",
     "evalue": "name 'data_dir' is not defined",
     "output_type": "error",
     "traceback": [
      "\u001b[0;31m---------------------------------------------------------------------------\u001b[0m",
      "\u001b[0;31mNameError\u001b[0m                                 Traceback (most recent call last)",
      "\u001b[0;32m<ipython-input-5-f145735f3415>\u001b[0m in \u001b[0;36m<module>\u001b[0;34m\u001b[0m\n\u001b[0;32m----> 1\u001b[0;31m \u001b[0mvalid_set\u001b[0m \u001b[0;34m=\u001b[0m \u001b[0mtorchvision\u001b[0m\u001b[0;34m.\u001b[0m\u001b[0mdatasets\u001b[0m\u001b[0;34m.\u001b[0m\u001b[0mImageFolder\u001b[0m\u001b[0;34m(\u001b[0m\u001b[0mdata_dir\u001b[0m \u001b[0;34m/\u001b[0m \u001b[0;34m'val'\u001b[0m\u001b[0;34m,\u001b[0m \u001b[0mdata_transforms\u001b[0m\u001b[0;34m)\u001b[0m\u001b[0;34m\u001b[0m\u001b[0;34m\u001b[0m\u001b[0m\n\u001b[0m\u001b[1;32m      2\u001b[0m valid_loader = torch.utils.data.DataLoader(valid_set, batch_size=batch_size,\n\u001b[1;32m      3\u001b[0m                                            shuffle=True, num_workers=4, pin_memory=True)\n\u001b[1;32m      4\u001b[0m \u001b[0mloss\u001b[0m \u001b[0;34m=\u001b[0m \u001b[0mCrossEntropyLoss\u001b[0m\u001b[0;34m(\u001b[0m\u001b[0;34m)\u001b[0m\u001b[0;34m\u001b[0m\u001b[0;34m\u001b[0m\u001b[0m\n",
      "\u001b[0;31mNameError\u001b[0m: name 'data_dir' is not defined"
     ]
    }
   ],
   "source": [
    "experiment = 6\n",
    "seed = 0\n",
    "model_id = f\"{experiment}_{seed}\"\n",
    "model_path = Path(f\"outputs/experiment_{experiment}/data/{model_id}\").rglob('*pt')\n",
    "model = <fill in>\n",
    "model.load_state_dict(torch.load(model_path))\n",
    "model.to(device)"
   ]
  },
  {
   "cell_type": "code",
   "execution_count": 6,
   "metadata": {},
   "outputs": [],
   "source": [
    "def valid(model, dataset, dataloader, loss, device):\n",
    "    running_loss = 0.0\n",
    "    with torch.no_grad():\n",
    "        for i, data in tqdm(enumerate(dataloader),\n",
    "                            total=len(dataset) / dataloader.batch_size):\n",
    "            data, y = data\n",
    "            data = data.to(device)\n",
    "            ans = model.forward(data)\n",
    "            loss = loss(ans, y)\n",
    "            running_loss += loss.item()\n",
    "    return running_loss, running_loss / len(dataloader.dataset)"
   ]
  },
  {
   "cell_type": "code",
   "execution_count": null,
   "metadata": {},
   "outputs": [],
   "source": [
    "train_loss, avg_train = valid(model, train_set, train_loader, loss, device)\n",
    "print(train_loss, avg_train)"
   ]
  },
  {
   "cell_type": "code",
   "execution_count": null,
   "metadata": {},
   "outputs": [],
   "source": [
    "valid_loss, avg_valid = valid(model, valid_set, valid_loader, loss, device)\n",
    "print(valid_loss, avg_valid)"
   ]
  }
 ],
 "metadata": {
  "kernelspec": {
   "display_name": "Python 3",
   "language": "python",
   "name": "python3"
  },
  "language_info": {
   "codemirror_mode": {
    "name": "ipython",
    "version": 3
   },
   "file_extension": ".py",
   "mimetype": "text/x-python",
   "name": "python",
   "nbconvert_exporter": "python",
   "pygments_lexer": "ipython3",
   "version": "3.8.3"
  }
 },
 "nbformat": 4,
 "nbformat_minor": 4
}
