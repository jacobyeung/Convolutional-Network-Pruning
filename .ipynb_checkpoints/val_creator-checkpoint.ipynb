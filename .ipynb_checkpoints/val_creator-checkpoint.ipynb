{
 "cells": [
  {
   "cell_type": "code",
   "execution_count": null,
   "metadata": {},
   "outputs": [],
   "source": [
    "import pandas as pd\n",
    "from pathlib import Path\n",
    "import os"
   ]
  },
  {
   "cell_type": "code",
   "execution_count": null,
   "metadata": {},
   "outputs": [],
   "source": [
    "valid_path = ''\n",
    "df = pd.read_csv(f\"{valid_path}/data.txt\", sep=\" \")\n",
    "for index, row in df.iterrows():\n",
    "    im_name = row[0]\n",
    "    class_name = row[1]\n",
    "    Path(os.path.join(valid_path, class_nae)).mkdir(exist_ok=True)\n",
    "    Path(os.path.join(valid_path, 'images', im_name)).rename(os.path.join(valid_path, class_name, im_name))"
   ]
  }
 ],
 "metadata": {
  "kernelspec": {
   "display_name": "Python 3",
   "language": "python",
   "name": "python3"
  },
  "language_info": {
   "codemirror_mode": {
    "name": "ipython",
    "version": 3
   },
   "file_extension": ".py",
   "mimetype": "text/x-python",
   "name": "python",
   "nbconvert_exporter": "python",
   "pygments_lexer": "ipython3",
   "version": "3.8.3"
  }
 },
 "nbformat": 4,
 "nbformat_minor": 4
}
