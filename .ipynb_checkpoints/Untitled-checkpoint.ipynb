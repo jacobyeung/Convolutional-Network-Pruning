{
 "cells": [
  {
   "cell_type": "code",
   "execution_count": 8,
   "metadata": {},
   "outputs": [],
   "source": [
    "from pathlib import Path\n",
    "import numpy as np\n",
    "import torch, torchvision, json\n",
    "import torchvision.transforms as transforms"
   ]
  },
  {
   "cell_type": "code",
   "execution_count": 7,
   "metadata": {},
   "outputs": [],
   "source": [
    "data_dir = Path('./data/tiny-imagenet-200')\n",
    "data_transforms = transforms.Compose([\n",
    "        transforms.ToTensor(),\n",
    "        transforms.Normalize((0, 0, 0), tuple(np.sqrt((255, 255, 255)))),\n",
    "])\n",
    "num_workers = [0, 1, 2, 4, 8]\n",
    "batch_sizes = [100, 1000, 10000]"
   ]
  },
  {
   "cell_type": "code",
   "execution_count": 1,
   "metadata": {},
   "outputs": [
    {
     "ename": "NameError",
     "evalue": "name 'torchvision' is not defined",
     "output_type": "error",
     "traceback": [
      "\u001b[0;31m---------------------------------------------------------------------------\u001b[0m",
      "\u001b[0;31mNameError\u001b[0m                                 Traceback (most recent call last)",
      "\u001b[0;32m<ipython-input-1-efbe12aac43e>\u001b[0m in \u001b[0;36m<module>\u001b[0;34m\u001b[0m\n\u001b[0;32m----> 1\u001b[0;31m train_set = torchvision.datasets.ImageFolder(\n\u001b[0m\u001b[1;32m      2\u001b[0m         data_dir / 'train', data_transforms)\n\u001b[1;32m      3\u001b[0m train_loader = torch.utils.data.DataLoader(train_set, batch_size=batch_size,\n\u001b[1;32m      4\u001b[0m                                            shuffle=True, num_workers=4, pin_memory=True)\n",
      "\u001b[0;31mNameError\u001b[0m: name 'torchvision' is not defined"
     ]
    }
   ],
   "source": [
    "timer = []\n",
    "for num_worker in num_workers:\n",
    "    for batch_size in batch_sizes:\n",
    "    train_set = torchvision.datasets.ImageFolder(data_dir / 'train', data_transforms)\n",
    "    train_loader = torch.utils.data.DataLoader(train_set, batch_size=batch_size,\n",
    "                                               shuffle=True, num_workers=4, pin_memory=True)\n",
    "    start = time.time()\n",
    "    for _ in range(5):\n",
    "        for x in train_loader:\n",
    "            pass\n",
    "    end = time.time()\n",
    "    data = f\"Num workers: {num_worker}, batch size: {batch_size}, time: {end-start}\"\n",
    "    print(data)\n",
    "    timer.append(data)\n",
    "with open('times.json','w+') as f:\n",
    "    json.dump(timer, f)"
   ]
  },
  {
   "cell_type": "code",
   "execution_count": null,
   "metadata": {},
   "outputs": [],
   "source": []
  }
 ],
 "metadata": {
  "kernelspec": {
   "display_name": "Python 3",
   "language": "python",
   "name": "python3"
  },
  "language_info": {
   "codemirror_mode": {
    "name": "ipython",
    "version": 3
   },
   "file_extension": ".py",
   "mimetype": "text/x-python",
   "name": "python",
   "nbconvert_exporter": "python",
   "pygments_lexer": "ipython3",
   "version": "3.8.3"
  }
 },
 "nbformat": 4,
 "nbformat_minor": 4
}
